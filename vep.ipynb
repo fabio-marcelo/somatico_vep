{
  "nbformat": 4,
  "nbformat_minor": 0,
  "metadata": {
    "colab": {
      "provenance": []
    },
    "kernelspec": {
      "name": "python3",
      "display_name": "Python 3"
    },
    "language_info": {
      "name": "python"
    }
  },
  "cells": [
    {
      "cell_type": "markdown",
      "source": [
        "# Montar drive"
      ],
      "metadata": {
        "id": "0okl8vCLcL3y"
      }
    },
    {
      "cell_type": "code",
      "source": [
        "from google.colab import drive          # importar a biblioteca\n",
        "drive.mount('/content/drive')           # montar o drive"
      ],
      "metadata": {
        "colab": {
          "base_uri": "https://localhost:8080/"
        },
        "id": "AXsL7x_vbljp",
        "outputId": "2aad845d-fb47-499a-d790-731f7c684cbd"
      },
      "execution_count": 75,
      "outputs": [
        {
          "output_type": "stream",
          "name": "stdout",
          "text": [
            "Drive already mounted at /content/drive; to attempt to forcibly remount, call drive.mount(\"/content/drive\", force_remount=True).\n"
          ]
        }
      ]
    },
    {
      "cell_type": "code",
      "source": [
        "%cd /content/drive/Shareddrives/T4-2022/FabioLima"
      ],
      "metadata": {
        "colab": {
          "base_uri": "https://localhost:8080/"
        },
        "id": "HTMhCVfVgrff",
        "outputId": "97f3ee97-8e27-4d29-ac9b-32d7b3fa0f47"
      },
      "execution_count": 5,
      "outputs": [
        {
          "output_type": "stream",
          "name": "stdout",
          "text": [
            "/content/drive/Shareddrives/T4-2022/FabioLima\n"
          ]
        }
      ]
    },
    {
      "cell_type": "code",
      "source": [
        "!pwd"
      ],
      "metadata": {
        "colab": {
          "base_uri": "https://localhost:8080/"
        },
        "id": "TNfYl3uTg3tV",
        "outputId": "2158231a-b6e7-4803-e93b-2b47e37c1b21"
      },
      "execution_count": 12,
      "outputs": [
        {
          "output_type": "stream",
          "name": "stdout",
          "text": [
            "/content/drive/Shareddrives/T4-2022/FabioLima/somatico\n"
          ]
        }
      ]
    },
    {
      "cell_type": "code",
      "source": [
        "!mkdir somatico\n",
        "%cd somatico"
      ],
      "metadata": {
        "colab": {
          "base_uri": "https://localhost:8080/"
        },
        "id": "jVH-suUlg6SQ",
        "outputId": "c707c8a4-cfa6-465e-989b-afedf6e8abfe"
      },
      "execution_count": 7,
      "outputs": [
        {
          "output_type": "stream",
          "name": "stdout",
          "text": [
            "/content/drive/Shareddrives/T4-2022/FabioLima/somatico\n"
          ]
        }
      ]
    },
    {
      "cell_type": "code",
      "source": [
        "!pwd"
      ],
      "metadata": {
        "colab": {
          "base_uri": "https://localhost:8080/"
        },
        "id": "Hkt_8p8bhAXS",
        "outputId": "3659778d-bd89-4b01-d066-13567d2bc3ef"
      },
      "execution_count": 14,
      "outputs": [
        {
          "output_type": "stream",
          "name": "stdout",
          "text": [
            "/content/drive/Shareddrives/T4-2022/FabioLima/somatico\n"
          ]
        }
      ]
    },
    {
      "cell_type": "markdown",
      "source": [
        "# Instalar VEP\n",
        "\n",
        "1. instalar dependências\n",
        "2. download do release esembl-vep 105.0\n",
        "3. descompactar\n",
        "entrar no dir\n",
        "5. rodar o script INSTALL.PL"
      ],
      "metadata": {
        "id": "oAwUGNbrfw6r"
      }
    },
    {
      "cell_type": "code",
      "source": [
        "%%bash\n",
        "sudo apt install unzip curl git libmodule-build-perl libdbi-perl libdbd-mysql-perl build-essential zlib1g-dev\n",
        "wget -c https://github.com/Ensembl/ensembl-vep/archive/refs/tags/105.0.tar.gz\n",
        "tar -zxvf 105.0.tar.gz\n",
        "cd ensembl-vep-105.0\n",
        "./INSTALL.pl --NO_UPDATE\n"
      ],
      "metadata": {
        "id": "2KNDEk3ihG0r"
      },
      "execution_count": null,
      "outputs": []
    },
    {
      "cell_type": "markdown",
      "source": [
        "# Testar instalação"
      ],
      "metadata": {
        "id": "qJXwPB6ChSwG"
      }
    },
    {
      "cell_type": "code",
      "source": [
        "%%bash\n",
        "cd ensembl-vep-105.0\n",
        "./vep"
      ],
      "metadata": {
        "colab": {
          "base_uri": "https://localhost:8080/"
        },
        "id": "0u7pFYECcB7U",
        "outputId": "4ac84224-6bd2-4164-c572-0ec3e358aefa"
      },
      "execution_count": 11,
      "outputs": [
        {
          "output_type": "stream",
          "name": "stdout",
          "text": [
            "#----------------------------------#\n",
            "# ENSEMBL VARIANT EFFECT PREDICTOR #\n",
            "#----------------------------------#\n",
            "\n",
            "Versions:\n",
            "  ensembl              : 105.525fbcb\n",
            "  ensembl-funcgen      : 105.660df8f\n",
            "  ensembl-io           : 105.2a0a40c\n",
            "  ensembl-variation    : 105.ac8178e\n",
            "  ensembl-vep          : 105.0\n",
            "\n",
            "Help: dev@ensembl.org , helpdesk@ensembl.org\n",
            "Twitter: @ensembl\n",
            "\n",
            "http://www.ensembl.org/info/docs/tools/vep/script/index.html\n",
            "\n",
            "Usage:\n",
            "./vep [--cache|--offline|--database] [arguments]\n",
            "\n",
            "Basic options\n",
            "=============\n",
            "\n",
            "--help                 Display this message and quit\n",
            "\n",
            "-i | --input_file      Input file\n",
            "-o | --output_file     Output file\n",
            "--force_overwrite      Force overwriting of output file\n",
            "--species [species]    Species to use [default: \"human\"]\n",
            "                       \n",
            "--everything           Shortcut switch to turn on commonly used options. See web\n",
            "                       documentation for details [default: off]                       \n",
            "--fork [num_forks]     Use forking to improve script runtime\n",
            "\n",
            "For full option documentation see:\n",
            "http://www.ensembl.org/info/docs/tools/vep/script/vep_options.html\n",
            "\n"
          ]
        }
      ]
    },
    {
      "cell_type": "markdown",
      "source": [
        "# Anotação com VEP"
      ],
      "metadata": {
        "id": "Op4lf0YRi9YA"
      }
    },
    {
      "cell_type": "markdown",
      "source": [
        "https://www.ensembl.org/info/docs/tools/vep/script/index.html\n"
      ],
      "metadata": {
        "id": "-ly8U2O43WEP"
      }
    },
    {
      "cell_type": "code",
      "source": [
        "%%bash\n",
        "./ensembl-vep-105.0/vep  \\\n",
        "  --fork 3 \\\n",
        "\t-i /content/drive/Shareddrives/T4-2022/homo_sapiens_refseq/105_GRCh37/WP312.filtered.vcf.gz \\\n",
        "\t-o /content/drive/Shareddrives/T4-2022/FabioLima/somatico/WP312.filtered.vcf.tsv \\\n",
        "  --dir_cache /content/drive/Shareddrives/T4-2022/ \\\n",
        "  --fasta /content/drive/Shareddrives/T4-2022/homo_sapiens_refseq/Homo_sapiens_assembly19.fasta \\\n",
        "  --cache --offline --assembly GRCh37 --refseq  \\\n",
        "\t--pick --pick_allele --force_overwrite --tab --symbol --check_existing --variant_class --everything --filter_common \\\n",
        "  --fields \"Uploaded_variation,Location,Allele,Existing_variation,HGVSc,HGVSp,SYMBOL,Consequence,IND,ZYG,Amino_acids,CLIN_SIG,PolyPhen,SIFT,VARIANT_CLASS,FREQS\" \\\n",
        "  --individual all\n",
        "\n"
      ],
      "metadata": {
        "colab": {
          "base_uri": "https://localhost:8080/"
        },
        "id": "EtPbJCRai-Ar",
        "outputId": "93cfb9c1-6a02-4920-c940-07a76004aa9f"
      },
      "execution_count": 46,
      "outputs": [
        {
          "output_type": "stream",
          "name": "stdout",
          "text": [
            "2022-11-12 17:01:46 - INFO: BAM-edited cache detected, enabling --use_transcript_ref; use --use_given_ref to override this\n"
          ]
        }
      ]
    },
    {
      "cell_type": "code",
      "source": [
        "# ver arquivo output\n",
        "!head -n 39 WP312.filtered.vcf.tsv"
      ],
      "metadata": {
        "id": "V8ldCRthrj63"
      },
      "execution_count": null,
      "outputs": []
    },
    {
      "cell_type": "code",
      "source": [
        "!ls"
      ],
      "metadata": {
        "colab": {
          "base_uri": "https://localhost:8080/"
        },
        "id": "PYtx003LhLTV",
        "outputId": "f0d0d9f5-7335-4d5a-875f-76d371c01bba"
      },
      "execution_count": 62,
      "outputs": [
        {
          "output_type": "stream",
          "name": "stdout",
          "text": [
            "105.0.tar.gz\t   WP312.filtered.vcf.tsv\n",
            "ensembl-vep-105.0  WP312.filtered.vcf.tsv_summary.html\n"
          ]
        }
      ]
    },
    {
      "cell_type": "code",
      "source": [
        "!pip install pandas\n",
        "import pandas as pd\n",
        "import csv"
      ],
      "metadata": {
        "id": "l-kFfVtFiXjd"
      },
      "execution_count": null,
      "outputs": []
    },
    {
      "cell_type": "code",
      "source": [
        "df = pd.read_csv('WP312.filtered.vcf.tsv', sep='\\t', skiprows=38, header = 0)\n",
        "df = pd.DataFrame(df)\n",
        "df"
      ],
      "metadata": {
        "colab": {
          "base_uri": "https://localhost:8080/",
          "height": 644
        },
        "id": "SZi64C4KtAaB",
        "outputId": "c1ec022b-6420-4c61-f4db-2f1d1eac1882"
      },
      "execution_count": 74,
      "outputs": [
        {
          "output_type": "stream",
          "name": "stdout",
          "text": [
            "Looking in indexes: https://pypi.org/simple, https://us-python.pkg.dev/colab-wheels/public/simple/\n",
            "Requirement already satisfied: pandas in /usr/local/lib/python3.7/dist-packages (1.3.5)\n",
            "Requirement already satisfied: numpy>=1.17.3 in /usr/local/lib/python3.7/dist-packages (from pandas) (1.21.6)\n",
            "Requirement already satisfied: python-dateutil>=2.7.3 in /usr/local/lib/python3.7/dist-packages (from pandas) (2.8.2)\n",
            "Requirement already satisfied: pytz>=2017.3 in /usr/local/lib/python3.7/dist-packages (from pandas) (2022.6)\n",
            "Requirement already satisfied: six>=1.5 in /usr/local/lib/python3.7/dist-packages (from python-dateutil>=2.7.3->pandas) (1.15.0)\n"
          ]
        },
        {
          "output_type": "execute_result",
          "data": {
            "text/plain": [
              "      #Uploaded_variation    Location Allele        Existing_variation  \\\n",
              "0            1_874643_C/A    1:874643      A                         -   \n",
              "1            1_874647_C/A    1:874647      A              rs1336064632   \n",
              "2            1_880620_A/C    1:880620      C              rs1569931554   \n",
              "3            1_894491_C/A    1:894491      A                         -   \n",
              "4            1_907758_A/G    1:907758      G  rs757863610,COSV58020841   \n",
              "...                   ...         ...    ...                       ...   \n",
              "17074      Y_16942308_C/T  Y:16942308      T                         -   \n",
              "17075      Y_21867770_G/T  Y:21867770      T                         -   \n",
              "17076      Y_21883016_C/A  Y:21883016      A                         -   \n",
              "17077      Y_21883108_C/A  Y:21883108      A                         -   \n",
              "17078      Y_22923149_C/A  Y:22923149      A                         -   \n",
              "\n",
              "                            HGVSc                       HGVSp   SYMBOL  \\\n",
              "0      NM_001385640.1:c.1058-9C>A                           -   SAMD11   \n",
              "1      NM_001385640.1:c.1058-5C>A                           -   SAMD11   \n",
              "2        NM_015658.4:c.2054-94T>G                           -    NOC2L   \n",
              "3          NM_015658.4:c.27-30G>T                           -    NOC2L   \n",
              "4         NM_001367552.1:c.992A>G  NP_001354481.1:p.Glu331Gly  PLEKHN1   \n",
              "...                           ...                         ...      ...   \n",
              "17074    NM_001365584.1:c.1570C>T  NP_001352513.1:p.Pro524Ser   NLGN4Y   \n",
              "17075    NM_001146705.2:c.*111C>A                           -    KDM5D   \n",
              "17076    NM_001146705.2:c.1646G>T  NP_001140177.1:p.Trp549Leu    KDM5D   \n",
              "17077    NM_001146705.2:c.1554G>T  NP_001140177.1:p.Met518Ile    KDM5D   \n",
              "17078  NM_001039567.3:c.263-21C>A                           -   RPS4Y2   \n",
              "\n",
              "                                             Consequence    IND  ZYG  \\\n",
              "0      splice_polypyrimidine_tract_variant,intron_var...  WP312  HET   \n",
              "1      splice_region_variant,splice_polypyrimidine_tr...  WP312  HET   \n",
              "2                                         intron_variant  WP312  HET   \n",
              "3                                         intron_variant  WP312  HET   \n",
              "4                                       missense_variant  WP312  HET   \n",
              "...                                                  ...    ...  ...   \n",
              "17074                                   missense_variant  WP312  HET   \n",
              "17075                                3_prime_UTR_variant  WP312  HET   \n",
              "17076             missense_variant,splice_region_variant  WP312  HET   \n",
              "17077                                   missense_variant  WP312  HET   \n",
              "17078                                     intron_variant  WP312  HET   \n",
              "\n",
              "      Amino_acids CLIN_SIG                  PolyPhen             SIFT  \\\n",
              "0               -        -                         -                -   \n",
              "1               -        -                         -                -   \n",
              "2               -        -                         -                -   \n",
              "3               -        -                         -                -   \n",
              "4             E/G        -                         -                -   \n",
              "...           ...      ...                       ...              ...   \n",
              "17074         P/S        -             benign(0.243)  tolerated(0.11)   \n",
              "17075           -        -                         -                -   \n",
              "17076         W/L        -      probably_damaging(1)   deleterious(0)   \n",
              "17077         M/I        -  probably_damaging(0.993)   deleterious(0)   \n",
              "17078           -        -                         -                -   \n",
              "\n",
              "      VARIANT_CLASS         FREQS  \n",
              "0               SNV             -  \n",
              "1               SNV             -  \n",
              "2               SNV             -  \n",
              "3               SNV             -  \n",
              "4               SNV  1KG_ALL:G:NA  \n",
              "...             ...           ...  \n",
              "17074           SNV             -  \n",
              "17075           SNV             -  \n",
              "17076           SNV             -  \n",
              "17077           SNV             -  \n",
              "17078           SNV             -  \n",
              "\n",
              "[17079 rows x 16 columns]"
            ],
            "text/html": [
              "\n",
              "  <div id=\"df-87cfaba7-eec7-468c-9dcf-c07c7965333e\">\n",
              "    <div class=\"colab-df-container\">\n",
              "      <div>\n",
              "<style scoped>\n",
              "    .dataframe tbody tr th:only-of-type {\n",
              "        vertical-align: middle;\n",
              "    }\n",
              "\n",
              "    .dataframe tbody tr th {\n",
              "        vertical-align: top;\n",
              "    }\n",
              "\n",
              "    .dataframe thead th {\n",
              "        text-align: right;\n",
              "    }\n",
              "</style>\n",
              "<table border=\"1\" class=\"dataframe\">\n",
              "  <thead>\n",
              "    <tr style=\"text-align: right;\">\n",
              "      <th></th>\n",
              "      <th>#Uploaded_variation</th>\n",
              "      <th>Location</th>\n",
              "      <th>Allele</th>\n",
              "      <th>Existing_variation</th>\n",
              "      <th>HGVSc</th>\n",
              "      <th>HGVSp</th>\n",
              "      <th>SYMBOL</th>\n",
              "      <th>Consequence</th>\n",
              "      <th>IND</th>\n",
              "      <th>ZYG</th>\n",
              "      <th>Amino_acids</th>\n",
              "      <th>CLIN_SIG</th>\n",
              "      <th>PolyPhen</th>\n",
              "      <th>SIFT</th>\n",
              "      <th>VARIANT_CLASS</th>\n",
              "      <th>FREQS</th>\n",
              "    </tr>\n",
              "  </thead>\n",
              "  <tbody>\n",
              "    <tr>\n",
              "      <th>0</th>\n",
              "      <td>1_874643_C/A</td>\n",
              "      <td>1:874643</td>\n",
              "      <td>A</td>\n",
              "      <td>-</td>\n",
              "      <td>NM_001385640.1:c.1058-9C&gt;A</td>\n",
              "      <td>-</td>\n",
              "      <td>SAMD11</td>\n",
              "      <td>splice_polypyrimidine_tract_variant,intron_var...</td>\n",
              "      <td>WP312</td>\n",
              "      <td>HET</td>\n",
              "      <td>-</td>\n",
              "      <td>-</td>\n",
              "      <td>-</td>\n",
              "      <td>-</td>\n",
              "      <td>SNV</td>\n",
              "      <td>-</td>\n",
              "    </tr>\n",
              "    <tr>\n",
              "      <th>1</th>\n",
              "      <td>1_874647_C/A</td>\n",
              "      <td>1:874647</td>\n",
              "      <td>A</td>\n",
              "      <td>rs1336064632</td>\n",
              "      <td>NM_001385640.1:c.1058-5C&gt;A</td>\n",
              "      <td>-</td>\n",
              "      <td>SAMD11</td>\n",
              "      <td>splice_region_variant,splice_polypyrimidine_tr...</td>\n",
              "      <td>WP312</td>\n",
              "      <td>HET</td>\n",
              "      <td>-</td>\n",
              "      <td>-</td>\n",
              "      <td>-</td>\n",
              "      <td>-</td>\n",
              "      <td>SNV</td>\n",
              "      <td>-</td>\n",
              "    </tr>\n",
              "    <tr>\n",
              "      <th>2</th>\n",
              "      <td>1_880620_A/C</td>\n",
              "      <td>1:880620</td>\n",
              "      <td>C</td>\n",
              "      <td>rs1569931554</td>\n",
              "      <td>NM_015658.4:c.2054-94T&gt;G</td>\n",
              "      <td>-</td>\n",
              "      <td>NOC2L</td>\n",
              "      <td>intron_variant</td>\n",
              "      <td>WP312</td>\n",
              "      <td>HET</td>\n",
              "      <td>-</td>\n",
              "      <td>-</td>\n",
              "      <td>-</td>\n",
              "      <td>-</td>\n",
              "      <td>SNV</td>\n",
              "      <td>-</td>\n",
              "    </tr>\n",
              "    <tr>\n",
              "      <th>3</th>\n",
              "      <td>1_894491_C/A</td>\n",
              "      <td>1:894491</td>\n",
              "      <td>A</td>\n",
              "      <td>-</td>\n",
              "      <td>NM_015658.4:c.27-30G&gt;T</td>\n",
              "      <td>-</td>\n",
              "      <td>NOC2L</td>\n",
              "      <td>intron_variant</td>\n",
              "      <td>WP312</td>\n",
              "      <td>HET</td>\n",
              "      <td>-</td>\n",
              "      <td>-</td>\n",
              "      <td>-</td>\n",
              "      <td>-</td>\n",
              "      <td>SNV</td>\n",
              "      <td>-</td>\n",
              "    </tr>\n",
              "    <tr>\n",
              "      <th>4</th>\n",
              "      <td>1_907758_A/G</td>\n",
              "      <td>1:907758</td>\n",
              "      <td>G</td>\n",
              "      <td>rs757863610,COSV58020841</td>\n",
              "      <td>NM_001367552.1:c.992A&gt;G</td>\n",
              "      <td>NP_001354481.1:p.Glu331Gly</td>\n",
              "      <td>PLEKHN1</td>\n",
              "      <td>missense_variant</td>\n",
              "      <td>WP312</td>\n",
              "      <td>HET</td>\n",
              "      <td>E/G</td>\n",
              "      <td>-</td>\n",
              "      <td>-</td>\n",
              "      <td>-</td>\n",
              "      <td>SNV</td>\n",
              "      <td>1KG_ALL:G:NA</td>\n",
              "    </tr>\n",
              "    <tr>\n",
              "      <th>...</th>\n",
              "      <td>...</td>\n",
              "      <td>...</td>\n",
              "      <td>...</td>\n",
              "      <td>...</td>\n",
              "      <td>...</td>\n",
              "      <td>...</td>\n",
              "      <td>...</td>\n",
              "      <td>...</td>\n",
              "      <td>...</td>\n",
              "      <td>...</td>\n",
              "      <td>...</td>\n",
              "      <td>...</td>\n",
              "      <td>...</td>\n",
              "      <td>...</td>\n",
              "      <td>...</td>\n",
              "      <td>...</td>\n",
              "    </tr>\n",
              "    <tr>\n",
              "      <th>17074</th>\n",
              "      <td>Y_16942308_C/T</td>\n",
              "      <td>Y:16942308</td>\n",
              "      <td>T</td>\n",
              "      <td>-</td>\n",
              "      <td>NM_001365584.1:c.1570C&gt;T</td>\n",
              "      <td>NP_001352513.1:p.Pro524Ser</td>\n",
              "      <td>NLGN4Y</td>\n",
              "      <td>missense_variant</td>\n",
              "      <td>WP312</td>\n",
              "      <td>HET</td>\n",
              "      <td>P/S</td>\n",
              "      <td>-</td>\n",
              "      <td>benign(0.243)</td>\n",
              "      <td>tolerated(0.11)</td>\n",
              "      <td>SNV</td>\n",
              "      <td>-</td>\n",
              "    </tr>\n",
              "    <tr>\n",
              "      <th>17075</th>\n",
              "      <td>Y_21867770_G/T</td>\n",
              "      <td>Y:21867770</td>\n",
              "      <td>T</td>\n",
              "      <td>-</td>\n",
              "      <td>NM_001146705.2:c.*111C&gt;A</td>\n",
              "      <td>-</td>\n",
              "      <td>KDM5D</td>\n",
              "      <td>3_prime_UTR_variant</td>\n",
              "      <td>WP312</td>\n",
              "      <td>HET</td>\n",
              "      <td>-</td>\n",
              "      <td>-</td>\n",
              "      <td>-</td>\n",
              "      <td>-</td>\n",
              "      <td>SNV</td>\n",
              "      <td>-</td>\n",
              "    </tr>\n",
              "    <tr>\n",
              "      <th>17076</th>\n",
              "      <td>Y_21883016_C/A</td>\n",
              "      <td>Y:21883016</td>\n",
              "      <td>A</td>\n",
              "      <td>-</td>\n",
              "      <td>NM_001146705.2:c.1646G&gt;T</td>\n",
              "      <td>NP_001140177.1:p.Trp549Leu</td>\n",
              "      <td>KDM5D</td>\n",
              "      <td>missense_variant,splice_region_variant</td>\n",
              "      <td>WP312</td>\n",
              "      <td>HET</td>\n",
              "      <td>W/L</td>\n",
              "      <td>-</td>\n",
              "      <td>probably_damaging(1)</td>\n",
              "      <td>deleterious(0)</td>\n",
              "      <td>SNV</td>\n",
              "      <td>-</td>\n",
              "    </tr>\n",
              "    <tr>\n",
              "      <th>17077</th>\n",
              "      <td>Y_21883108_C/A</td>\n",
              "      <td>Y:21883108</td>\n",
              "      <td>A</td>\n",
              "      <td>-</td>\n",
              "      <td>NM_001146705.2:c.1554G&gt;T</td>\n",
              "      <td>NP_001140177.1:p.Met518Ile</td>\n",
              "      <td>KDM5D</td>\n",
              "      <td>missense_variant</td>\n",
              "      <td>WP312</td>\n",
              "      <td>HET</td>\n",
              "      <td>M/I</td>\n",
              "      <td>-</td>\n",
              "      <td>probably_damaging(0.993)</td>\n",
              "      <td>deleterious(0)</td>\n",
              "      <td>SNV</td>\n",
              "      <td>-</td>\n",
              "    </tr>\n",
              "    <tr>\n",
              "      <th>17078</th>\n",
              "      <td>Y_22923149_C/A</td>\n",
              "      <td>Y:22923149</td>\n",
              "      <td>A</td>\n",
              "      <td>-</td>\n",
              "      <td>NM_001039567.3:c.263-21C&gt;A</td>\n",
              "      <td>-</td>\n",
              "      <td>RPS4Y2</td>\n",
              "      <td>intron_variant</td>\n",
              "      <td>WP312</td>\n",
              "      <td>HET</td>\n",
              "      <td>-</td>\n",
              "      <td>-</td>\n",
              "      <td>-</td>\n",
              "      <td>-</td>\n",
              "      <td>SNV</td>\n",
              "      <td>-</td>\n",
              "    </tr>\n",
              "  </tbody>\n",
              "</table>\n",
              "<p>17079 rows × 16 columns</p>\n",
              "</div>\n",
              "      <button class=\"colab-df-convert\" onclick=\"convertToInteractive('df-87cfaba7-eec7-468c-9dcf-c07c7965333e')\"\n",
              "              title=\"Convert this dataframe to an interactive table.\"\n",
              "              style=\"display:none;\">\n",
              "        \n",
              "  <svg xmlns=\"http://www.w3.org/2000/svg\" height=\"24px\"viewBox=\"0 0 24 24\"\n",
              "       width=\"24px\">\n",
              "    <path d=\"M0 0h24v24H0V0z\" fill=\"none\"/>\n",
              "    <path d=\"M18.56 5.44l.94 2.06.94-2.06 2.06-.94-2.06-.94-.94-2.06-.94 2.06-2.06.94zm-11 1L8.5 8.5l.94-2.06 2.06-.94-2.06-.94L8.5 2.5l-.94 2.06-2.06.94zm10 10l.94 2.06.94-2.06 2.06-.94-2.06-.94-.94-2.06-.94 2.06-2.06.94z\"/><path d=\"M17.41 7.96l-1.37-1.37c-.4-.4-.92-.59-1.43-.59-.52 0-1.04.2-1.43.59L10.3 9.45l-7.72 7.72c-.78.78-.78 2.05 0 2.83L4 21.41c.39.39.9.59 1.41.59.51 0 1.02-.2 1.41-.59l7.78-7.78 2.81-2.81c.8-.78.8-2.07 0-2.86zM5.41 20L4 18.59l7.72-7.72 1.47 1.35L5.41 20z\"/>\n",
              "  </svg>\n",
              "      </button>\n",
              "      \n",
              "  <style>\n",
              "    .colab-df-container {\n",
              "      display:flex;\n",
              "      flex-wrap:wrap;\n",
              "      gap: 12px;\n",
              "    }\n",
              "\n",
              "    .colab-df-convert {\n",
              "      background-color: #E8F0FE;\n",
              "      border: none;\n",
              "      border-radius: 50%;\n",
              "      cursor: pointer;\n",
              "      display: none;\n",
              "      fill: #1967D2;\n",
              "      height: 32px;\n",
              "      padding: 0 0 0 0;\n",
              "      width: 32px;\n",
              "    }\n",
              "\n",
              "    .colab-df-convert:hover {\n",
              "      background-color: #E2EBFA;\n",
              "      box-shadow: 0px 1px 2px rgba(60, 64, 67, 0.3), 0px 1px 3px 1px rgba(60, 64, 67, 0.15);\n",
              "      fill: #174EA6;\n",
              "    }\n",
              "\n",
              "    [theme=dark] .colab-df-convert {\n",
              "      background-color: #3B4455;\n",
              "      fill: #D2E3FC;\n",
              "    }\n",
              "\n",
              "    [theme=dark] .colab-df-convert:hover {\n",
              "      background-color: #434B5C;\n",
              "      box-shadow: 0px 1px 3px 1px rgba(0, 0, 0, 0.15);\n",
              "      filter: drop-shadow(0px 1px 2px rgba(0, 0, 0, 0.3));\n",
              "      fill: #FFFFFF;\n",
              "    }\n",
              "  </style>\n",
              "\n",
              "      <script>\n",
              "        const buttonEl =\n",
              "          document.querySelector('#df-87cfaba7-eec7-468c-9dcf-c07c7965333e button.colab-df-convert');\n",
              "        buttonEl.style.display =\n",
              "          google.colab.kernel.accessAllowed ? 'block' : 'none';\n",
              "\n",
              "        async function convertToInteractive(key) {\n",
              "          const element = document.querySelector('#df-87cfaba7-eec7-468c-9dcf-c07c7965333e');\n",
              "          const dataTable =\n",
              "            await google.colab.kernel.invokeFunction('convertToInteractive',\n",
              "                                                     [key], {});\n",
              "          if (!dataTable) return;\n",
              "\n",
              "          const docLinkHtml = 'Like what you see? Visit the ' +\n",
              "            '<a target=\"_blank\" href=https://colab.research.google.com/notebooks/data_table.ipynb>data table notebook</a>'\n",
              "            + ' to learn more about interactive tables.';\n",
              "          element.innerHTML = '';\n",
              "          dataTable['output_type'] = 'display_data';\n",
              "          await google.colab.output.renderOutput(dataTable, element);\n",
              "          const docLink = document.createElement('div');\n",
              "          docLink.innerHTML = docLinkHtml;\n",
              "          element.appendChild(docLink);\n",
              "        }\n",
              "      </script>\n",
              "    </div>\n",
              "  </div>\n",
              "  "
            ]
          },
          "metadata": {},
          "execution_count": 74
        }
      ]
    }
  ]
}